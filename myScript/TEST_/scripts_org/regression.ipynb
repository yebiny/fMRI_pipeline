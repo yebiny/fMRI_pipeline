#!/usr/bin/env python3
# -*- coding: utf-8 -*-

import numpy as np
import scipy.io as sio
import csv


def return_latent_arr(csvFile, matfile):

    # Latent info for each image
    f_latent = np.load('latent_space_value/f_latent.npy', allow_pickle=True)
    m_latent = np.load('latent_space_value/m_latent.npy', allow_pickle=True)
    

    # Image for experiment
    imgCSV = open(csvFile, 'r')
    imgCSV = csv.reader(imgCSV)
    imgList = [name for name in imgCSV]
    
    theseLatent=[]
    for idx in range(len(imgList)):
        img_info = imgList[idx][0].split('/')[-2]
        img_name = imgList[idx][0].split('/')[-1]


        if img_info == 'female':
            latent = f_latent
        else: latent = m_latent

        thisLatent = latent[latent[:,0]==img_name][0][1][0]
        theseLatent.append(thisLatent)
   

    # Activation pattern from experiment      
    activMat = sio.loadmat(matfile)
    activArr = activMat['tstat_masked_pat']
    
    theseActiv=[]
    for idx in range(len(activArr[0])):


        thisActiv = activArr[:,idx]
        theseActiv.append(thisActiv)
        
    return np.array(theseLatent), np.array(theseActiv)


lat, act = return_latent_arr('temp/imgList_test_run1.csv', 'temp/tstat_masked_pat_test_run1.mat')
lat.shape, act.shape

from sklearn.linear_model import LinearRegression

x , y = act[:10], lat
print(x.shape, y.shape)
line_fitter = LinearRegression()
line_fitter.fit(x, y)

W = line_fitter.coef_
W.shape

