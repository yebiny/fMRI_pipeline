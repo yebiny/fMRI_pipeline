{
 "cells": [
  {
   "cell_type": "code",
   "execution_count": 298,
   "metadata": {},
   "outputs": [],
   "source": [
    "import nipype\n",
    "import sys, glob\n",
    "import nibabel as nib\n",
    "import numpy as np\n",
    "from nilearn import plotting\n",
    "import scipy.io"
   ]
  },
  {
   "cell_type": "code",
   "execution_count": 364,
   "metadata": {},
   "outputs": [
    {
     "data": {
      "text/plain": [
       "17690"
      ]
     },
     "execution_count": 364,
     "metadata": {},
     "output_type": "execute_result"
    }
   ],
   "source": [
    "mask1 = nib.load('./results/sub01/mask/mask1.nii')\n",
    "mask1 = mask1.get_fdata()\n",
    "masking1 = mask1==1\n",
    "np.count_nonzero(mask1)"
   ]
  },
  {
   "cell_type": "code",
   "execution_count": 218,
   "metadata": {},
   "outputs": [
    {
     "data": {
      "text/plain": [
       "<nilearn.plotting.displays.OrthoSlicer at 0x5f122be90>"
      ]
     },
     "execution_count": 218,
     "metadata": {},
     "output_type": "execute_result"
    },
    {
     "data": {
      "image/png": "[encoded data removed]",
      "text/plain": [
       "<Figure size 475.2x187.2 with 4 Axes>"
      ]
     },
     "metadata": {},
     "output_type": "display_data"
    }
   ],
   "source": [
    "plotting.plot_img('./results/sub01/mask/mask1.nii')"
   ]
  },
  {
   "cell_type": "code",
   "execution_count": 360,
   "metadata": {},
   "outputs": [
    {
     "name": "stdout",
     "output_type": "stream",
     "text": [
      "0\n",
      "100\n",
      "200\n",
      "300\n",
      "400\n",
      "500\n",
      "600\n",
      "700\n",
      "800\n",
      "900\n",
      "1000\n"
     ]
    }
   ],
   "source": [
    "voxel_arr = np.zeros((1100, 17690))\n",
    "path = './results/sub01/fsf/'\n",
    "for i in range(10):\n",
    "    for j in range(110):\n",
    "        idx = (i*110)+j\n",
    "        tstat=nib.load('%s/phase1_trialWiseGLM_train_run%i.feat/stats/tstat%i_mask1.nii.gz'%(path, i+1, j+1))\n",
    "        tstat=tstat.get_fdata()\n",
    "        tstat_masked = tstat[masking1]\n",
    "        voxel_arr[idx]= tstat_masked\n",
    "        if idx%100==0:print(idx)"
   ]
  },
  {
   "cell_type": "code",
   "execution_count": 359,
   "metadata": {},
   "outputs": [
    {
     "data": {
      "text/plain": [
       "array([ 1.18045807,  1.55129242,  1.2867955 , ...,  0.09044766,\n",
       "       -1.08840072,  1.26921308])"
      ]
     },
     "execution_count": 359,
     "metadata": {},
     "output_type": "execute_result"
    }
   ],
   "source": [
    "voxel_arr"
   ]
  },
  {
   "cell_type": "code",
   "execution_count": 295,
   "metadata": {},
   "outputs": [],
   "source": [
    "img_list=[]\n",
    "\n",
    "for i in range(1,11):\n",
    "    mat = scipy.io.loadmat('./exp_info/sub20/stims/data_phase1_run%i.mat'%i)\n",
    "    imgidxs=mat['designMat'][3]\n",
    "    imggender=mat['designMat'][2]\n",
    "    index = mat['designMat'][4]\n",
    "    for idx in range(len(imgidxs)):\n",
    "        if index[idx] ==0 and imgidxs[idx] !=0:\n",
    "            img_list.append([int(imgidxs[idx]), int(imggender[idx])])\n",
    "img_arr=np.array(img_list)"
   ]
  },
  {
   "cell_type": "code",
   "execution_count": 297,
   "metadata": {},
   "outputs": [
    {
     "data": {
      "text/plain": [
       "(1100, 2)"
      ]
     },
     "execution_count": 297,
     "metadata": {},
     "output_type": "execute_result"
    }
   ],
   "source": [
    "img_arr.shape"
   ]
  },
  {
   "cell_type": "code",
   "execution_count": 299,
   "metadata": {},
   "outputs": [],
   "source": [
    "f_lat = np.load('./scripts/f_latent.npy', allow_pickle=True)\n",
    "m_lat = np.load('./scripts/m_latent.npy', allow_pickle=True)"
   ]
  },
  {
   "cell_type": "code",
   "execution_count": 349,
   "metadata": {},
   "outputs": [],
   "source": [
    "lat_list=[]\n",
    "for idx, gender in img_arr:\n",
    "    if gender==1: lat_map=f_lat \n",
    "    else: lat_map=m_lat\n",
    "    lat = lat_map[:,1][idx][0]\n",
    "    lat_list.append(lat)\n",
    "lat_arr = np.array(lat_list)"
   ]
  },
  {
   "cell_type": "code",
   "execution_count": 350,
   "metadata": {},
   "outputs": [
    {
     "data": {
      "text/plain": [
       "(1100, 100)"
      ]
     },
     "execution_count": 350,
     "metadata": {},
     "output_type": "execute_result"
    }
   ],
   "source": [
    "lat_arr.shape"
   ]
  },
  {
   "cell_type": "code",
   "execution_count": 365,
   "metadata": {},
   "outputs": [
    {
     "data": {
      "text/plain": [
       "((1100, 17690), (1100, 100))"
      ]
     },
     "execution_count": 365,
     "metadata": {},
     "output_type": "execute_result"
    }
   ],
   "source": [
    "voxel_arr.shape, lat_arr.shape"
   ]
  },
  {
   "cell_type": "code",
   "execution_count": null,
   "metadata": {},
   "outputs": [],
   "source": []
  }
 ],
 "metadata": {
  "kernelspec": {
   "display_name": "Python 3",
   "language": "python",
   "name": "python3"
  },
  "language_info": {
   "codemirror_mode": {
    "name": "ipython",
    "version": 3
   },
   "file_extension": ".py",
   "mimetype": "text/x-python",
   "name": "python",
   "nbconvert_exporter": "python",
   "pygments_lexer": "ipython3",
   "version": "3.7.4"
  },
  "toc": {
   "base_numbering": 1,
   "nav_menu": {},
   "number_sections": true,
   "sideBar": true,
   "skip_h1_title": false,
   "title_cell": "Table of Contents",
   "title_sidebar": "Contents",
   "toc_cell": false,
   "toc_position": {},
   "toc_section_display": true,
   "toc_window_display": false
  }
 },
 "nbformat": 4,
 "nbformat_minor": 4
}
